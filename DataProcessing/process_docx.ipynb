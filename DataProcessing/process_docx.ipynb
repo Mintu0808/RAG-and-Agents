{
 "cells": [
  {
   "cell_type": "markdown",
   "id": "6d5d8d90",
   "metadata": {},
   "source": [
    "### Process Word document using Docx2txtLoader"
   ]
  },
  {
   "cell_type": "code",
   "execution_count": 3,
   "id": "76925a72",
   "metadata": {},
   "outputs": [],
   "source": [
    "from langchain_community.document_loaders import Docx2txtLoader, UnstructuredWordDocumentLoader"
   ]
  },
  {
   "cell_type": "code",
   "execution_count": null,
   "id": "9d7e938d",
   "metadata": {},
   "outputs": [],
   "source": [
    "# Load the document using Docx2txtLoader\n",
    "docx_loader = Docx2txtLoader(\"data/PAD.docx\")\n",
    "doc = docx_loader.load()\n",
    "\n",
    "print(f\"laoded {len(doc)} documents\")\n",
    "print(f\"Document metadata: {doc[0].metadata}\")  # Print metadata of the first document\n",
    "print(\"----------------------------------------\")\n",
    "print(f\"Document page content: {doc[0].page_content[:1000]}...\")  # Print the first 100 characters of the page content\n",
    "print(\"----------------------------------------\")\n"
   ]
  },
  {
   "cell_type": "code",
   "execution_count": null,
   "id": "fde30e7c",
   "metadata": {},
   "outputs": [],
   "source": [
    "# Alternatively, load the document using UnstructuredWordDocumentLoader\n",
    "unstructured_loader = UnstructuredWordDocumentLoader(\"data/PAD.docx\", mode=\"elements\")\n",
    "unstructured_doc = unstructured_loader.load()\n",
    "\n",
    "# Print the loaded document\n",
    "print(unstructured_doc)  # Uncomment to see the unstructured document output\n",
    "print(f\"laoded {len(unstructured_doc)} documents\")\n",
    "print(f\"Unstructured Document metadata: {unstructured_doc[0].metadata}\")  \n",
    "print(\"----------------------------------------\")\n",
    "print(f\"Unstructured Document page content: {unstructured_doc[0].page_content[:1000]}...\")  # Print the first 100 characters of the page content"
   ]
  }
 ],
 "metadata": {
  "kernelspec": {
   "display_name": ".venv",
   "language": "python",
   "name": "python3"
  },
  "language_info": {
   "codemirror_mode": {
    "name": "ipython",
    "version": 3
   },
   "file_extension": ".py",
   "mimetype": "text/x-python",
   "name": "python",
   "nbconvert_exporter": "python",
   "pygments_lexer": "ipython3",
   "version": "3.12.4"
  }
 },
 "nbformat": 4,
 "nbformat_minor": 5
}
