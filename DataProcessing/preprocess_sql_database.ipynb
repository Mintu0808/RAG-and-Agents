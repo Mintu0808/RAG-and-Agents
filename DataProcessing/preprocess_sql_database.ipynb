{
 "cells": [
  {
   "cell_type": "code",
   "execution_count": 2,
   "id": "bbf8ca15",
   "metadata": {},
   "outputs": [],
   "source": [
    "import sqlite3\n",
    "import os"
   ]
  },
  {
   "cell_type": "code",
   "execution_count": 3,
   "id": "b0cad1dc",
   "metadata": {},
   "outputs": [],
   "source": [
    "os.makedirs('data/database', exist_ok=True)"
   ]
  },
  {
   "cell_type": "code",
   "execution_count": 4,
   "id": "7469820c",
   "metadata": {},
   "outputs": [],
   "source": [
    "conn = sqlite3.connect('data/database/my_database.db')\n",
    "cursor = conn.cursor()"
   ]
  },
  {
   "cell_type": "code",
   "execution_count": 5,
   "id": "1f4aac2d",
   "metadata": {},
   "outputs": [
    {
     "data": {
      "text/plain": [
       "<sqlite3.Cursor at 0x18d7827b940>"
      ]
     },
     "execution_count": 5,
     "metadata": {},
     "output_type": "execute_result"
    }
   ],
   "source": [
    "# Example SQL commands to create a table and insert data\n",
    "cursor.execute('''CREATE TABLE IF NOT EXISTS employees (\n",
    "    id INTEGER PRIMARY KEY,\n",
    "    name TEXT NOT NULL,\n",
    "    position TEXT NOT NULL,\n",
    "    salary REAL NOT NULL\n",
    ")''')"
   ]
  },
  {
   "cell_type": "code",
   "execution_count": 6,
   "id": "95c9c117",
   "metadata": {},
   "outputs": [
    {
     "data": {
      "text/plain": [
       "<sqlite3.Cursor at 0x18d7827b940>"
      ]
     },
     "execution_count": 6,
     "metadata": {},
     "output_type": "execute_result"
    }
   ],
   "source": [
    "cursor.execute('''CREATE TABLE IF NOT EXISTS Projects (\n",
    "id INTEGER PRIMARY KEY,\n",
    "name TEXT NOT NULL,\n",
    "start_date TEXT NOT NULL,\n",
    "end_date TEXT NOT NULL,\n",
    "budget REAL NOT NULL\n",
    ")''')"
   ]
  },
  {
   "cell_type": "code",
   "execution_count": 7,
   "id": "6c1721a7",
   "metadata": {},
   "outputs": [],
   "source": [
    "# Insert sample data into the employees table\n",
    "cursor.executemany('''\n",
    "    INSERT INTO employees (id, name, position, salary)\n",
    "    VALUES (?, ?, ?, ?)\n",
    "''', [\n",
    "    (1, 'Alice Johnson', 'Software Engineer', 85000.00),\n",
    "    (2, 'Bob Smith', 'Data Scientist', 95000.00),\n",
    "    (3, 'Charlie Brown', 'Product Manager', 105000.00),\n",
    "    (4, 'Diana Prince', 'UX Designer', 78000.00),\n",
    "    (5, 'Ethan Hunt', 'DevOps Engineer', 92000.00)\n",
    "])\n",
    "\n",
    "# Commit the changes\n",
    "conn.commit()"
   ]
  },
  {
   "cell_type": "code",
   "execution_count": 8,
   "id": "c4b4c8d7",
   "metadata": {},
   "outputs": [],
   "source": [
    "# Insert sample data into the Projects table\n",
    "cursor.executemany('''\n",
    "    INSERT INTO Projects (id, name, start_date, end_date, budget)\n",
    "    VALUES (?, ?, ?, ?, ?)\n",
    "''', [\n",
    "    (1, 'Project Apollo', '2025-01-01', '2025-06-30', 500000.00),\n",
    "    (2, 'Project Zeus', '2025-02-15', '2025-08-15', 750000.00),\n",
    "    (3, 'Project Athena', '2025-03-01', '2025-09-30', 600000.00),\n",
    "    (4, 'Project Hermes', '2025-04-01', '2025-10-31', 450000.00),\n",
    "    (5, 'Project Poseidon', '2025-05-01', '2025-11-30', 800000.00)\n",
    "])\n",
    "\n",
    "# Commit the changes\n",
    "conn.commit()"
   ]
  },
  {
   "cell_type": "code",
   "execution_count": 11,
   "id": "14ac38cf",
   "metadata": {},
   "outputs": [],
   "source": [
    "conn.close()"
   ]
  },
  {
   "cell_type": "markdown",
   "id": "808e26e4",
   "metadata": {},
   "source": [
    "## Database content extraction"
   ]
  },
  {
   "cell_type": "code",
   "execution_count": 18,
   "id": "25bbcf1a",
   "metadata": {},
   "outputs": [
    {
     "ename": "ModuleNotFoundError",
     "evalue": "No module named 'langchain_community.documents_loader'",
     "output_type": "error",
     "traceback": [
      "\u001b[31m---------------------------------------------------------------------------\u001b[39m",
      "\u001b[31mModuleNotFoundError\u001b[39m                       Traceback (most recent call last)",
      "\u001b[36mCell\u001b[39m\u001b[36m \u001b[39m\u001b[32mIn[18]\u001b[39m\u001b[32m, line 2\u001b[39m\n\u001b[32m      1\u001b[39m \u001b[38;5;28;01mfrom\u001b[39;00m\u001b[38;5;250m \u001b[39m\u001b[34;01mlangchain_community\u001b[39;00m\u001b[34;01m.\u001b[39;00m\u001b[34;01mutilities\u001b[39;00m\u001b[38;5;250m \u001b[39m\u001b[38;5;28;01mimport\u001b[39;00m SQLDatabase\n\u001b[32m----> \u001b[39m\u001b[32m2\u001b[39m \u001b[38;5;28;01mfrom\u001b[39;00m\u001b[38;5;250m \u001b[39m\u001b[34;01mlangchain_community\u001b[39;00m\u001b[34;01m.\u001b[39;00m\u001b[34;01mdocuments_loader\u001b[39;00m\u001b[38;5;250m \u001b[39m\u001b[38;5;28;01mimport\u001b[39;00m SQLDatabaseloader\n",
      "\u001b[31mModuleNotFoundError\u001b[39m: No module named 'langchain_community.documents_loader'"
     ]
    }
   ],
   "source": [
    "from langchain_community.utilities import SQLDatabase\n",
    "from langchain_community.documents_loader import SQLDatabaseloader"
   ]
  },
  {
   "cell_type": "markdown",
   "id": "212794f1",
   "metadata": {},
   "source": []
  }
 ],
 "metadata": {
  "kernelspec": {
   "display_name": ".venv",
   "language": "python",
   "name": "python3"
  },
  "language_info": {
   "codemirror_mode": {
    "name": "ipython",
    "version": 3
   },
   "file_extension": ".py",
   "mimetype": "text/x-python",
   "name": "python",
   "nbconvert_exporter": "python",
   "pygments_lexer": "ipython3",
   "version": "3.12.4"
  }
 },
 "nbformat": 4,
 "nbformat_minor": 5
}
