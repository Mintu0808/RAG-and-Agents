{
 "cells": [
  {
   "cell_type": "markdown",
   "id": "73db7406",
   "metadata": {},
   "source": [
    "### Building a RAG Application \n",
    "This notebook will walk you through building a complete RAG system using: \n",
    "1. Langchain Framework.\n",
    "2. ChromaDB vector Database\n",
    "3. OpenAI/Grok ai : Embeddings and Language Model."
   ]
  },
  {
   "cell_type": "markdown",
   "id": "88caf264",
   "metadata": {},
   "source": [
    "### RAG (Retrieval-Augmented Generation) Architecture:\n",
    "\n",
    "1. Document Loading: Load documents from various sources\n",
    "2. Document Splitting: Break documents into smaller chunks\n",
    "3. Embedding Generation: Convert chunks into vector representations\n",
    "4. Vector Storage: Store embeddings in ChromaDB\n",
    "5. Query Processing: Convert user query to embedding\n",
    "6. Similarity Search: Find relevant chunks from vector store\n",
    "7. Context Augmentation: Combine retrieved chunks with query\n",
    "8. Response Generation: LLM generates answer using context\n",
    "\n",
    "### Benefits of RAG:\n",
    "- Reduces hallucinations\n",
    "- Provides up-to-date information\n",
    "- Allows citing sources\n",
    "- Works with domain-specific knowledge"
   ]
  },
  {
   "cell_type": "code",
   "execution_count": 1,
   "id": "82989565",
   "metadata": {},
   "outputs": [
    {
     "data": {
      "text/plain": [
       "True"
      ]
     },
     "execution_count": 1,
     "metadata": {},
     "output_type": "execute_result"
    }
   ],
   "source": [
    "import os \n",
    "from dotenv import load_dotenv\n",
    "load_dotenv()"
   ]
  },
  {
   "cell_type": "code",
   "execution_count": 2,
   "id": "d1be74ab",
   "metadata": {},
   "outputs": [],
   "source": [
    "## langchain Import\n",
    "from langchain.text_splitter import RecursiveCharacterTextSplitter\n",
    "from langchain_community.document_loaders import TextLoader\n",
    "from langchain.schema import Document\n",
    "from langchain_openai import OpenAIEmbeddings\n",
    "from langchain_huggingface  import HuggingFaceEmbeddings\n",
    "from langchain_groq import ChatGroq\n",
    "\n",
    "## vectorstore \n",
    "from langchain_community.vectorstores import Chroma\n",
    "\n",
    "## Utility imports\n",
    "import numpy as np \n",
    "import pandas as pd\n",
    "from typing import List\n",
    "\n",
    "## Document loader\n",
    "from langchain_community.document_loaders import PyMuPDFLoader"
   ]
  },
  {
   "cell_type": "code",
   "execution_count": 3,
   "id": "781a14d7",
   "metadata": {},
   "outputs": [],
   "source": [
    "class smartPDFProcessor:\n",
    "    def __init__(self):\n",
    "\n",
    "        self.text_splitter = RecursiveCharacterTextSplitter(chunk_size=1000,\n",
    "                                                             chunk_overlap=20,\n",
    "                                                             separators=[\" \"])\n",
    "\n",
    "    def process(self, pdf_path):\n",
    "        # Split the PDF content into manageable chunks\n",
    "        self.pdf_data = PyMuPDFLoader(pdf_path).load()\n",
    "        print(f\"Loaded {len(self.pdf_data)} pages from PDF.\")\n",
    "        chunks = self.text_splitter.split_documents(self.pdf_data)\n",
    "        print(f\"Processed into {len(chunks)} chunks.\")\n",
    "        return chunks"
   ]
  },
  {
   "cell_type": "code",
   "execution_count": 4,
   "id": "c026afc1",
   "metadata": {},
   "outputs": [
    {
     "name": "stdout",
     "output_type": "stream",
     "text": [
      "Loaded 221 pages from PDF.\n",
      "Processed into 354 chunks.\n"
     ]
    }
   ],
   "source": [
    "#load sample data\n",
    "process_pdf = smartPDFProcessor()\n",
    "chunk_data = process_pdf.process('data/learn_sql.pdf')"
   ]
  },
  {
   "cell_type": "markdown",
   "id": "d76bf3d9",
   "metadata": {},
   "source": [
    "### Initialize ChomaDB Vector store and stores the chunks in Verctor Reperatiation"
   ]
  },
  {
   "cell_type": "code",
   "execution_count": 5,
   "id": "48adce89",
   "metadata": {},
   "outputs": [
    {
     "name": "stderr",
     "output_type": "stream",
     "text": [
      "e:\\Mintu\\RAG and Agents\\.venv\\Lib\\site-packages\\tqdm\\auto.py:21: TqdmWarning: IProgress not found. Please update jupyter and ipywidgets. See https://ipywidgets.readthedocs.io/en/stable/user_install.html\n",
      "  from .autonotebook import tqdm as notebook_tqdm\n"
     ]
    }
   ],
   "source": [
    "\n",
    "## Create a chromaDB vector store\n",
    "persist_dirc = \"./chroma_db\"\n",
    "# model = 'sentence-transformers/all-MiniLM-L6-v2'\n",
    "\n",
    "# Initialize HuggingFaceEmbeddings\n",
    "embeddings = HuggingFaceEmbeddings(model_name=\"sentence-transformers/all-MiniLM-L6-v2\") # 384 dimensions\n",
    "\n",
    "# # Initialize Chroma DB - By default, it uses L2 distance (Euclidean distance)\n",
    "# # If you want to use cosine similarity, you can set the distance metric in the collection\n",
    "\n",
    "# vectorstore = Chroma.from_documents(\n",
    "#     documents=chunk_data,  \n",
    "#     embedding=embeddings,  \n",
    "#     persist_directory=persist_dirc,  \n",
    "#     collection_name=\"rag_collection\"\n",
    "# )\n",
    "\n",
    "# to use cosine similarity, you can use the following:\n",
    "from chromadb.config import Settings\n",
    "\n",
    "vectorstore = Chroma.from_documents(\n",
    "    documents=chunk_data,\n",
    "    embedding=embeddings,\n",
    "    persist_directory=persist_dirc,\n",
    "    collection_name=\"rag_collection\",\n",
    "    # 🔑 Set distance metric\n",
    "   collection_metadata={\"hnsw:space\": \"cosine\"}\n",
    ")"
   ]
  },
  {
   "cell_type": "code",
   "execution_count": 6,
   "id": "ca452b79",
   "metadata": {},
   "outputs": [
    {
     "name": "stdout",
     "output_type": "stream",
     "text": [
      "Vectorstore created with 1770 vectors.\n"
     ]
    }
   ],
   "source": [
    "print(f\"Vectorstore created with {vectorstore._collection.count()} vectors.\")"
   ]
  },
  {
   "cell_type": "code",
   "execution_count": 7,
   "id": "d7765e23",
   "metadata": {},
   "outputs": [
    {
     "data": {
      "text/plain": [
       "[Document(metadata={'author': '', 'title': '', 'keywords': '', 'trapped': '', 'creationDate': \"D:20200806083349+02'00'\", 'subject': '', 'moddate': '2020-08-06T08:33:49+02:00', 'total_pages': 221, 'encryption': 'Standard V2 R3 128-bit RC4', 'page': 19, 'file_path': 'data/learn_sql.pdf', 'format': 'PDF 1.4', 'modDate': \"D:20200806083349+02'00'\", 'producer': 'GPL Ghostscript 9.52', 'creationdate': '2020-08-06T08:33:49+02:00', 'source': 'data/learn_sql.pdf', 'creator': ''}, page_content='Chapter 1: Getting started with SQL\\nRemarks\\nSQL is Structured Query Language used to manage data in a relational database system. \\nDifferent vendors have improved upon the language and have variety of flavors for the language.\\nNB: This tag refers explicitly to the ISO/ANSI SQL standard; not to any specific implementation of \\nthat standard.\\nVersions\\nVersion\\nShort Name\\nStandard\\nRelease Date\\n1986\\nSQL-86\\nANSI X3.135-1986, ISO 9075:1987\\n1986-01-01\\n1989\\nSQL-89\\nANSI X3.135-1989, ISO/IEC 9075:1989\\n1989-01-01\\n1992\\nSQL-92\\nISO/IEC 9075:1992\\n1992-01-01\\n1999\\nSQL:1999\\nISO/IEC 9075:1999\\n1999-12-16\\n2003\\nSQL:2003\\nISO/IEC 9075:2003\\n2003-12-15\\n2006\\nSQL:2006\\nISO/IEC 9075:2006\\n2006-06-01\\n2008\\nSQL:2008\\nISO/IEC 9075:2008\\n2008-07-15\\n2011\\nSQL:2011\\nISO/IEC 9075:2011\\n2011-12-15\\n2016\\nSQL:2016\\nISO/IEC 9075:2016\\n2016-12-01\\nExamples\\nOverview\\nStructured Query Language (SQL) is a special-purpose programming language designed for \\nmanaging data held in a Relational Database Management System (RDBMS). SQL-like languages'),\n",
       " Document(metadata={'author': '', 'file_path': 'data/learn_sql.pdf', 'creator': '', 'creationDate': \"D:20200806083349+02'00'\", 'modDate': \"D:20200806083349+02'00'\", 'keywords': '', 'format': 'PDF 1.4', 'source': 'data/learn_sql.pdf', 'total_pages': 221, 'title': '', 'page': 19, 'producer': 'GPL Ghostscript 9.52', 'subject': '', 'creationdate': '2020-08-06T08:33:49+02:00', 'trapped': '', 'encryption': 'Standard V2 R3 128-bit RC4', 'moddate': '2020-08-06T08:33:49+02:00'}, page_content='Chapter 1: Getting started with SQL\\nRemarks\\nSQL is Structured Query Language used to manage data in a relational database system. \\nDifferent vendors have improved upon the language and have variety of flavors for the language.\\nNB: This tag refers explicitly to the ISO/ANSI SQL standard; not to any specific implementation of \\nthat standard.\\nVersions\\nVersion\\nShort Name\\nStandard\\nRelease Date\\n1986\\nSQL-86\\nANSI X3.135-1986, ISO 9075:1987\\n1986-01-01\\n1989\\nSQL-89\\nANSI X3.135-1989, ISO/IEC 9075:1989\\n1989-01-01\\n1992\\nSQL-92\\nISO/IEC 9075:1992\\n1992-01-01\\n1999\\nSQL:1999\\nISO/IEC 9075:1999\\n1999-12-16\\n2003\\nSQL:2003\\nISO/IEC 9075:2003\\n2003-12-15\\n2006\\nSQL:2006\\nISO/IEC 9075:2006\\n2006-06-01\\n2008\\nSQL:2008\\nISO/IEC 9075:2008\\n2008-07-15\\n2011\\nSQL:2011\\nISO/IEC 9075:2011\\n2011-12-15\\n2016\\nSQL:2016\\nISO/IEC 9075:2016\\n2016-12-01\\nExamples\\nOverview\\nStructured Query Language (SQL) is a special-purpose programming language designed for \\nmanaging data held in a Relational Database Management System (RDBMS). SQL-like languages'),\n",
       " Document(metadata={'moddate': '2020-08-06T08:33:49+02:00', 'file_path': 'data/learn_sql.pdf', 'page': 19, 'title': '', 'creationdate': '2020-08-06T08:33:49+02:00', 'subject': '', 'modDate': \"D:20200806083349+02'00'\", 'total_pages': 221, 'encryption': 'Standard V2 R3 128-bit RC4', 'creator': '', 'trapped': '', 'format': 'PDF 1.4', 'keywords': '', 'producer': 'GPL Ghostscript 9.52', 'creationDate': \"D:20200806083349+02'00'\", 'source': 'data/learn_sql.pdf', 'author': ''}, page_content='Chapter 1: Getting started with SQL\\nRemarks\\nSQL is Structured Query Language used to manage data in a relational database system. \\nDifferent vendors have improved upon the language and have variety of flavors for the language.\\nNB: This tag refers explicitly to the ISO/ANSI SQL standard; not to any specific implementation of \\nthat standard.\\nVersions\\nVersion\\nShort Name\\nStandard\\nRelease Date\\n1986\\nSQL-86\\nANSI X3.135-1986, ISO 9075:1987\\n1986-01-01\\n1989\\nSQL-89\\nANSI X3.135-1989, ISO/IEC 9075:1989\\n1989-01-01\\n1992\\nSQL-92\\nISO/IEC 9075:1992\\n1992-01-01\\n1999\\nSQL:1999\\nISO/IEC 9075:1999\\n1999-12-16\\n2003\\nSQL:2003\\nISO/IEC 9075:2003\\n2003-12-15\\n2006\\nSQL:2006\\nISO/IEC 9075:2006\\n2006-06-01\\n2008\\nSQL:2008\\nISO/IEC 9075:2008\\n2008-07-15\\n2011\\nSQL:2011\\nISO/IEC 9075:2011\\n2011-12-15\\n2016\\nSQL:2016\\nISO/IEC 9075:2016\\n2016-12-01\\nExamples\\nOverview\\nStructured Query Language (SQL) is a special-purpose programming language designed for \\nmanaging data held in a Relational Database Management System (RDBMS). SQL-like languages')]"
      ]
     },
     "execution_count": 7,
     "metadata": {},
     "output_type": "execute_result"
    }
   ],
   "source": [
    "#Similarity search\n",
    "query = \"What are the types of joints in SQL?\"\n",
    "\n",
    "docs = vectorstore.similarity_search(query, k=3)\n",
    "docs\n"
   ]
  },
  {
   "cell_type": "code",
   "execution_count": 8,
   "id": "9d6c2087",
   "metadata": {},
   "outputs": [
    {
     "data": {
      "text/plain": [
       "[Document(metadata={'source': 'data/learn_sql.pdf', 'creationDate': \"D:20200806083349+02'00'\", 'creationdate': '2020-08-06T08:33:49+02:00', 'subject': '', 'title': '', 'format': 'PDF 1.4', 'total_pages': 221, 'page': 96, 'author': '', 'moddate': '2020-08-06T08:33:49+02:00', 'creator': '', 'file_path': 'data/learn_sql.pdf', 'modDate': \"D:20200806083349+02'00'\", 'producer': 'GPL Ghostscript 9.52', 'encryption': 'Standard V2 R3 128-bit RC4', 'keywords': '', 'trapped': ''}, page_content='functions provide information about the configuration of the current SQL \\ninstance.\\n1. \\nConversion functions convert data into the correct data type for a given operation. For \\nexample, these types of functions can reformat information by converting a string to a date or \\nnumber to allow two different types to be compared.\\n2. \\nDate and time functions manipulate fields containing date and time values. They can return \\nnumeric, date, or string values. For example, you can use a function to retrieve the current \\nday of the week or year or to retrieve only the year from the date.\\n3. \\nThe values returned by date and time functions depend on the date and time set for the operating \\nsystem of the computer running the SQL instance.\\nLogical function that performs operations using logical operators. It evaluates a set of \\nconditions and returns a single result.\\n4. \\nMathematical functions perform mathematical operations, or calculations, on numeric \\n5. \\nhttps://riptutorial.com/\\n79'),\n",
       " Document(metadata={'creator': '', 'producer': 'GPL Ghostscript 9.52', 'creationDate': \"D:20200806083349+02'00'\", 'page': 96, 'total_pages': 221, 'file_path': 'data/learn_sql.pdf', 'keywords': '', 'author': '', 'encryption': 'Standard V2 R3 128-bit RC4', 'format': 'PDF 1.4', 'modDate': \"D:20200806083349+02'00'\", 'source': 'data/learn_sql.pdf', 'creationdate': '2020-08-06T08:33:49+02:00', 'subject': '', 'trapped': '', 'title': '', 'moddate': '2020-08-06T08:33:49+02:00'}, page_content='functions provide information about the configuration of the current SQL \\ninstance.\\n1. \\nConversion functions convert data into the correct data type for a given operation. For \\nexample, these types of functions can reformat information by converting a string to a date or \\nnumber to allow two different types to be compared.\\n2. \\nDate and time functions manipulate fields containing date and time values. They can return \\nnumeric, date, or string values. For example, you can use a function to retrieve the current \\nday of the week or year or to retrieve only the year from the date.\\n3. \\nThe values returned by date and time functions depend on the date and time set for the operating \\nsystem of the computer running the SQL instance.\\nLogical function that performs operations using logical operators. It evaluates a set of \\nconditions and returns a single result.\\n4. \\nMathematical functions perform mathematical operations, or calculations, on numeric \\n5. \\nhttps://riptutorial.com/\\n79'),\n",
       " Document(metadata={'creationdate': '2020-08-06T08:33:49+02:00', 'moddate': '2020-08-06T08:33:49+02:00', 'title': '', 'source': 'data/learn_sql.pdf', 'encryption': 'Standard V2 R3 128-bit RC4', 'trapped': '', 'page': 96, 'producer': 'GPL Ghostscript 9.52', 'keywords': '', 'author': '', 'total_pages': 221, 'subject': '', 'file_path': 'data/learn_sql.pdf', 'creationDate': \"D:20200806083349+02'00'\", 'creator': '', 'modDate': \"D:20200806083349+02'00'\", 'format': 'PDF 1.4'}, page_content='functions provide information about the configuration of the current SQL \\ninstance.\\n1. \\nConversion functions convert data into the correct data type for a given operation. For \\nexample, these types of functions can reformat information by converting a string to a date or \\nnumber to allow two different types to be compared.\\n2. \\nDate and time functions manipulate fields containing date and time values. They can return \\nnumeric, date, or string values. For example, you can use a function to retrieve the current \\nday of the week or year or to retrieve only the year from the date.\\n3. \\nThe values returned by date and time functions depend on the date and time set for the operating \\nsystem of the computer running the SQL instance.\\nLogical function that performs operations using logical operators. It evaluates a set of \\nconditions and returns a single result.\\n4. \\nMathematical functions perform mathematical operations, or calculations, on numeric \\n5. \\nhttps://riptutorial.com/\\n79')]"
      ]
     },
     "execution_count": 8,
     "metadata": {},
     "output_type": "execute_result"
    }
   ],
   "source": [
    "query = \"What is window function?\"\n",
    "\n",
    "docs = vectorstore.similarity_search(query, k=3)\n",
    "docs"
   ]
  },
  {
   "cell_type": "code",
   "execution_count": 9,
   "id": "62f104f0",
   "metadata": {},
   "outputs": [
    {
     "data": {
      "text/plain": [
       "[(Document(metadata={'trapped': '', 'keywords': '', 'total_pages': 221, 'producer': 'GPL Ghostscript 9.52', 'file_path': 'data/learn_sql.pdf', 'source': 'data/learn_sql.pdf', 'modDate': \"D:20200806083349+02'00'\", 'subject': '', 'creator': '', 'format': 'PDF 1.4', 'page': 96, 'title': '', 'author': '', 'creationdate': '2020-08-06T08:33:49+02:00', 'moddate': '2020-08-06T08:33:49+02:00', 'creationDate': \"D:20200806083349+02'00'\", 'encryption': 'Standard V2 R3 128-bit RC4'}, page_content='functions provide information about the configuration of the current SQL \\ninstance.\\n1. \\nConversion functions convert data into the correct data type for a given operation. For \\nexample, these types of functions can reformat information by converting a string to a date or \\nnumber to allow two different types to be compared.\\n2. \\nDate and time functions manipulate fields containing date and time values. They can return \\nnumeric, date, or string values. For example, you can use a function to retrieve the current \\nday of the week or year or to retrieve only the year from the date.\\n3. \\nThe values returned by date and time functions depend on the date and time set for the operating \\nsystem of the computer running the SQL instance.\\nLogical function that performs operations using logical operators. It evaluates a set of \\nconditions and returns a single result.\\n4. \\nMathematical functions perform mathematical operations, or calculations, on numeric \\n5. \\nhttps://riptutorial.com/\\n79'),\n",
       "  1.2634646892547607),\n",
       " (Document(metadata={'modDate': \"D:20200806083349+02'00'\", 'encryption': 'Standard V2 R3 128-bit RC4', 'subject': '', 'trapped': '', 'file_path': 'data/learn_sql.pdf', 'keywords': '', 'author': '', 'total_pages': 221, 'source': 'data/learn_sql.pdf', 'creator': '', 'moddate': '2020-08-06T08:33:49+02:00', 'creationDate': \"D:20200806083349+02'00'\", 'producer': 'GPL Ghostscript 9.52', 'format': 'PDF 1.4', 'title': '', 'creationdate': '2020-08-06T08:33:49+02:00', 'page': 96}, page_content='functions provide information about the configuration of the current SQL \\ninstance.\\n1. \\nConversion functions convert data into the correct data type for a given operation. For \\nexample, these types of functions can reformat information by converting a string to a date or \\nnumber to allow two different types to be compared.\\n2. \\nDate and time functions manipulate fields containing date and time values. They can return \\nnumeric, date, or string values. For example, you can use a function to retrieve the current \\nday of the week or year or to retrieve only the year from the date.\\n3. \\nThe values returned by date and time functions depend on the date and time set for the operating \\nsystem of the computer running the SQL instance.\\nLogical function that performs operations using logical operators. It evaluates a set of \\nconditions and returns a single result.\\n4. \\nMathematical functions perform mathematical operations, or calculations, on numeric \\n5. \\nhttps://riptutorial.com/\\n79'),\n",
       "  1.2634646892547607),\n",
       " (Document(metadata={'creationDate': \"D:20200806083349+02'00'\", 'keywords': '', 'encryption': 'Standard V2 R3 128-bit RC4', 'subject': '', 'title': '', 'author': '', 'file_path': 'data/learn_sql.pdf', 'creator': '', 'modDate': \"D:20200806083349+02'00'\", 'trapped': '', 'total_pages': 221, 'page': 96, 'producer': 'GPL Ghostscript 9.52', 'format': 'PDF 1.4', 'moddate': '2020-08-06T08:33:49+02:00', 'creationdate': '2020-08-06T08:33:49+02:00', 'source': 'data/learn_sql.pdf'}, page_content='functions provide information about the configuration of the current SQL \\ninstance.\\n1. \\nConversion functions convert data into the correct data type for a given operation. For \\nexample, these types of functions can reformat information by converting a string to a date or \\nnumber to allow two different types to be compared.\\n2. \\nDate and time functions manipulate fields containing date and time values. They can return \\nnumeric, date, or string values. For example, you can use a function to retrieve the current \\nday of the week or year or to retrieve only the year from the date.\\n3. \\nThe values returned by date and time functions depend on the date and time set for the operating \\nsystem of the computer running the SQL instance.\\nLogical function that performs operations using logical operators. It evaluates a set of \\nconditions and returns a single result.\\n4. \\nMathematical functions perform mathematical operations, or calculations, on numeric \\n5. \\nhttps://riptutorial.com/\\n79'),\n",
       "  1.2634646892547607)]"
      ]
     },
     "execution_count": 9,
     "metadata": {},
     "output_type": "execute_result"
    }
   ],
   "source": [
    "### Advance Similarity Search with Scores\n",
    "restults = vectorstore.similarity_search_with_score(query, k=3)\n",
    "restults"
   ]
  },
  {
   "cell_type": "markdown",
   "id": "be239de9",
   "metadata": {},
   "source": [
    "### Understanding Similarity Scores\n",
    "The similarity score represents how closely related a document chunk is to your query. The scoring depends on the distance metric used:\n",
    "\n",
    "ChromaDB default: Uses L2 distance (Euclidean distance)\n",
    "\n",
    "-L2 distance of x = (x₁, x₂) and y = (y₁, y₂) in 2d space is given by:\n",
    "d(x, y) = √((x₁ − y₁)² + (x₂ − y₂)²)\n",
    "\n",
    "- Lower scores = MORE similar (closer in vector space)\n",
    "- Score of 0 = identical vectors\n",
    "- Typical range: 0 to 2 (but can be higher)\n",
    "\n",
    "To Configure Cosine similarity # 🔑 Set distance metric - \"\"collection_metadata={\"hnsw:space\": \"cosine\"}\"\"\n",
    "\n",
    "Cosine similarity (if configured):\n",
    "- Higher scores = MORE similar\n",
    "- Range: -1 to 1 (1 being identical)"
   ]
  },
  {
   "cell_type": "code",
   "execution_count": null,
   "id": "0c3a0396",
   "metadata": {},
   "outputs": [],
   "source": []
  },
  {
   "cell_type": "markdown",
   "id": "1769e6a0",
   "metadata": {},
   "source": [
    "### Initialize LLM, RAG Chain, Prompt Template, Query the RAG System"
   ]
  },
  {
   "cell_type": "code",
   "execution_count": null,
   "id": "d6d6ee91",
   "metadata": {},
   "outputs": [],
   "source": [
    "#initialize LLM\n",
    "# from langchain_openai import ChatOpenAI\n",
    "# llm = ChatOpenAI(model=\"gpt-3.5-turbo\", temperature=0.0, max_tokens=1000)\n",
    "\n",
    "# Initialize LLM with Groq\n",
    "from langchain_groq import ChatGroq\n",
    "llm = ChatGroq(model=\"llama-3.1-8b-instant\", temperature=0.3, max_tokens=1000)\n",
    "\n",
    "##one more way to initialize LLM\n",
    "# from langchain.chat_models import init_chat_model\n",
    "# llm = init_chat_model(\n",
    "#     \"llama-3.1-8b-instant\",\n",
    "#     model_provider=\"groq\",\n",
    "#     temperature=0.0,\n",
    "# )"
   ]
  },
  {
   "cell_type": "code",
   "execution_count": null,
   "id": "da252b16",
   "metadata": {},
   "outputs": [
    {
     "data": {
      "text/plain": [
       "AIMessage(content='**Window Functions**\\n=====================\\n\\nA window function is a type of SQL function that allows you to perform calculations across a set of table rows that are related to the current row, such as the current row and the rows above and below it. Window functions are similar to aggregate functions, but they do not collapse the result set, instead, they return a value for each row in the result set.\\n\\n**Types of Window Functions**\\n-----------------------------\\n\\nThere are several types of window functions, including:\\n\\n*   **ROW_NUMBER()**: assigns a unique number to each row within a result set.\\n*   **RANK()**: assigns a rank to each row within a result set.\\n*   **DENSE_RANK()**: assigns a rank to each row within a result set, without gaps in the ranking.\\n*   **NTILE()**: divides a result set into a specified number of groups.\\n*   **LAG()**: returns the value of a column from a previous row.\\n*   **LEAD()**: returns the value of a column from a next row.\\n*   **FIRST_VALUE()**: returns the first value of a column within a result set.\\n*   **LAST_VALUE()**: returns the last value of a column within a result set.\\n*   **PERCENT_RANK()**: calculates the relative rank of a row within a result set.\\n*   **CUME_DIST()**: calculates the cumulative distribution of a row within a result set.\\n\\n**Example Use Cases**\\n---------------------\\n\\nHere are some examples of using window functions:\\n\\n### Example 1: ROW_NUMBER()\\n\\nSuppose we have a table called `employees` with columns `id`, `name`, and `salary`. We want to assign a unique number to each employee.\\n\\n```sql\\nSELECT id, name, salary, ROW_NUMBER() OVER (ORDER BY salary DESC) AS row_num\\nFROM employees;\\n```\\n\\n### Example 2: RANK()\\n\\nSuppose we have a table called `students` with columns `id`, `name`, and `grade`. We want to assign a rank to each student based on their grade.\\n\\n```sql\\nSELECT id, name, grade, RANK() OVER (ORDER BY grade DESC) AS rank\\nFROM students;\\n```\\n\\n### Example 3: LAG()\\n\\nSuppose we have a table called `sales` with columns `id`, `date`, and `amount`. We want to calculate the difference in sales amount between consecutive days.\\n\\n```sql\\nSELECT id, date, amount, LAG(amount) OVER (ORDER BY date) AS prev_amount, amount - LAG(amount) OVER (ORDER BY date) AS diff\\nFROM sales;\\n```\\n\\n**Best Practices**\\n------------------\\n\\nHere are some best practices to keep in mind when using window functions:\\n\\n*   Use window functions to perform calculations that require access to multiple rows.\\n*   Use the `OVER` clause to specify the window over which the function is applied.\\n*   Use the `PARTITION BY` clause to divide the result set into partitions.\\n*   Use the `ORDER BY` clause to specify the order of the rows within each partition.\\n*   Avoid using window functions with large result sets, as they can be computationally expensive.', additional_kwargs={}, response_metadata={'token_usage': {'completion_tokens': 648, 'prompt_tokens': 40, 'total_tokens': 688, 'completion_time': 0.957343332, 'prompt_time': 0.009865444, 'queue_time': 0.049262676, 'total_time': 0.967208776}, 'model_name': 'llama-3.1-8b-instant', 'system_fingerprint': 'fp_46fc01befd', 'service_tier': 'on_demand', 'finish_reason': 'stop', 'logprobs': None}, id='run--ac58d29f-4e94-45df-be4e-3bee5c19024f-0', usage_metadata={'input_tokens': 40, 'output_tokens': 648, 'total_tokens': 688})"
      ]
     },
     "execution_count": 17,
     "metadata": {},
     "output_type": "execute_result"
    }
   ],
   "source": [
    "# llm.invoke(\"What is window function?\")"
   ]
  },
  {
   "cell_type": "code",
   "execution_count": null,
   "id": "5f5d02a9",
   "metadata": {},
   "outputs": [],
   "source": [
    "### Modern RAG Chain\n",
    "from langchain.chains import create_retrieval_chain\n",
    "from langchain.prompts import PromptTemplate\n",
    "### create_stuff_documents_chain makes it easy to build a document-processing chain for RAG workflows.\n",
    "### Basically : combine retrived documents → insert into prompt → run LLM → get response.\n",
    "from langchain.chains.combine_documents import create_stuff_documents_chain  "
   ]
  },
  {
   "cell_type": "code",
   "execution_count": null,
   "id": "0b99b790",
   "metadata": {},
   "outputs": [],
   "source": [
    "### Step 1 : Convert any vectorstore to retriever\n",
    "### It act like a bridge between vectorstore and RAG chain\n",
    "retriever = vectorstore.as_retriever(search_type=\"similarity\", search_kwargs={\"k\": 3}) "
   ]
  },
  {
   "cell_type": "code",
   "execution_count": null,
   "id": "a42ab374",
   "metadata": {},
   "outputs": [],
   "source": [
    "from langchain_core.prompts import ChatPromptTemplate\n",
    "##Step2 : Create a Prompt Template\n",
    "system_prompt = \"\"\"You are a helpful assistant that answers questions based on the provided context.\n",
    "Use the context to provide accurate and concise answers.\n",
    "If the context does not contain enough information, you should say \"I don't know\".\n",
    "\n",
    "context = {context}\n",
    "\"\"\"\n",
    "\n",
    "prompt = ChatPromptTemplate.from_messages(\n",
    "    [(\"system\", system_prompt),\n",
    "     (\"human\", \"{input}\")]\n",
    ")"
   ]
  },
  {
   "cell_type": "code",
   "execution_count": 36,
   "id": "c834f020",
   "metadata": {},
   "outputs": [],
   "source": [
    "from langchain.chains import create_retrieval_chain\n",
    "\n",
    "### Step 3 : Create a Document Chain\n",
    "### This chain processes the retrieved documents and prepares them for the LLM.\n",
    "document_chain = create_stuff_documents_chain(llm=llm,prompt=prompt)\n",
    "\n",
    "### Step 4 : Create a RAG Chain\n",
    "rag_chain = create_retrieval_chain(retriever, document_chain)"
   ]
  },
  {
   "cell_type": "code",
   "execution_count": 40,
   "id": "4623baca",
   "metadata": {},
   "outputs": [
    {
     "name": "stdout",
     "output_type": "stream",
     "text": [
      "In SQL, a join is a method of combining information from two or more tables based on a related column between them. The result is a stitched set of columns from both tables, defined by the join type and join criteria.\n",
      "\n",
      "A join can be thought of as a way of querying data from several tables in a joint fashion, with the rows displaying columns taken from more than one table. Joins can be used to:\n",
      "\n",
      "- Combine data from multiple tables\n",
      "- Retrieve data from a single table that is related to data in another table\n",
      "- Perform complex queries that require data from multiple tables\n",
      "\n",
      "There are several types of joins in SQL, including:\n",
      "\n",
      "1. **INNER JOIN**: Returns only the rows that have a match in both tables.\n",
      "2. **LEFT JOIN** (or **LEFT OUTER JOIN**): Returns all the rows from the left table and the matching rows from the right table. If there is no match, the result will contain NULL values.\n",
      "3. **RIGHT JOIN** (or **RIGHT OUTER JOIN**): Similar to LEFT JOIN, but returns all the rows from the right table and the matching rows from the left table.\n",
      "4. **FULL JOIN** (or **FULL OUTER JOIN**): Returns all the rows from both tables, with NULL values in the columns where there is no match.\n",
      "\n",
      "The basic syntax of a join is:\n",
      "```sql\n",
      "SELECT column1, column2, ...\n",
      "FROM table1\n",
      "INNER|LEFT|RIGHT|FULL JOIN table2\n",
      "ON table1.column_name = table2.column_name;\n",
      "```\n",
      "For example, if we have two tables, `Employees` and `Departments`, and we want to retrieve the employees' first names and the name of the department they work for, we can use an INNER JOIN:\n",
      "```sql\n",
      "SELECT Employees.FName, Departments.DepartmentName\n",
      "FROM Employees\n",
      "INNER JOIN Departments\n",
      "ON Employees.DepartmentID = Departments.DepartmentID;\n",
      "```\n",
      "This will return a result set with the employees' first names and the name of the department they work for, based on the matching DepartmentID in both tables.\n"
     ]
    }
   ],
   "source": [
    "response = rag_chain.invoke({\"input\": \"What are joints in SQL and explain it?\"})\n",
    "print(response['answer'])"
   ]
  },
  {
   "cell_type": "code",
   "execution_count": null,
   "id": "0c0bb6d8",
   "metadata": {},
   "outputs": [],
   "source": []
  }
 ],
 "metadata": {
  "kernelspec": {
   "display_name": ".venv",
   "language": "python",
   "name": "python3"
  },
  "language_info": {
   "codemirror_mode": {
    "name": "ipython",
    "version": 3
   },
   "file_extension": ".py",
   "mimetype": "text/x-python",
   "name": "python",
   "nbconvert_exporter": "python",
   "pygments_lexer": "ipython3",
   "version": "3.12.4"
  }
 },
 "nbformat": 4,
 "nbformat_minor": 5
}
